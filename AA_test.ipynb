{
 "cells": [
  {
   "cell_type": "code",
   "execution_count": 27,
   "id": "aa643dad-b1be-4f41-aac3-c474ef0a1cc7",
   "metadata": {},
   "outputs": [],
   "source": [
    "import pandas as pd\n",
    "import matplotlib.pyplot as plt\n",
    "import seaborn as sns\n",
    "import pandahouse\n",
    "import numpy as np\n",
    "import hashlib #делать хэши\n",
    "#import swifter #ускорение метода apply\n",
    "from scipy import stats #статистика\n",
    "%matplotlib inline"
   ]
  },
  {
   "cell_type": "code",
   "execution_count": 36,
   "id": "2547d11b-cfa1-4c84-9c0d-1e55abdd5489",
   "metadata": {},
   "outputs": [],
   "source": [
    "connection = {\n",
    "    'host': 'https://clickhouse.lab.karpov.courses',\n",
    "    'password': 'dpo_python_2020',\n",
    "    'user': 'student',\n",
    "    'database': 'simulator_20220520'\n",
    "     }\n",
    "\n",
    "q = \"\"\"\n",
    "SELECT exp_group, \n",
    "    user_id,\n",
    "    sum(action = 'like') as likes,\n",
    "    sum(action = 'view') as views,\n",
    "    likes/views as ctr\n",
    "FROM  simulator_20220520.feed_actions \n",
    "WHERE toDate(time) between '2022-04-17' and '2022-04-23'\n",
    "    and exp_group in (2,3)\n",
    "GROUP BY exp_group, user_id\n",
    "\"\"\"\n",
    "df = pandahouse.read_clickhouse(q, connection=connection)\n"
   ]
  },
  {
   "cell_type": "code",
   "execution_count": 28,
   "id": "d73dc5f1-a5c7-477d-97db-7b7bd2b0a1d5",
   "metadata": {},
   "outputs": [],
   "source": [
    "def get_bootstrap_samples(data, len_sample, n_samples):\n",
    "    indices = np.random.randint(0, len_sample, (n_samples, len(data)))\n",
    "    samples = data[indices]\n",
    "    return samples"
   ]
  },
  {
   "cell_type": "markdown",
   "id": "fbd53fbe-b4e1-4135-91e1-f45da93e201c",
   "metadata": {},
   "source": [
    "Генерируем 10000 АА-тестов с подвыборками с повторением в 500 юзеров"
   ]
  },
  {
   "cell_type": "code",
   "execution_count": 37,
   "id": "0b43f84f-c4ac-4800-9d4f-fe9e10c787a1",
   "metadata": {},
   "outputs": [],
   "source": [
    "df2= pd.DataFrame(columns=['p_value'])\n",
    "for i in range(10000):\n",
    "    p_val=stats.ttest_ind(\n",
    "                            df[df.exp_group == 2].ctr.sample(500, replace=True).tolist(),\n",
    "                            df[df.exp_group == 3].ctr.sample(500, replace=True).tolist(),\n",
    "                                            equal_var=False)[1]\n",
    "    \n",
    "    \n",
    "    \n",
    "    df2= df2.append({'p_value': p_val}, ignore_index=True)\n",
    "    "
   ]
  },
  {
   "cell_type": "markdown",
   "id": "4b8702fc-ac2c-4b7e-a995-6f555b701595",
   "metadata": {},
   "source": [
    "гистограмма распределения получившихся 10000 p-values."
   ]
  },
  {
   "cell_type": "code",
   "execution_count": 38,
   "id": "5452360a-bf34-480d-a951-536cafed1876",
   "metadata": {},
   "outputs": [
    {
     "data": {
      "image/png": "[encoded data removed]",
      "text/plain": [
       "<Figure size 432x288 with 1 Axes>"
      ]
     },
     "metadata": {
      "needs_background": "light"
     },
     "output_type": "display_data"
    }
   ],
   "source": [
    "#sns.set(rc={'figure.figsize':(11.7,8.27)})\n",
    "\n",
    "groups = sns.histplot(data = df2['p_value'],  \n",
    "              palette = ['b'],\n",
    "                     bins=30)"
   ]
  },
  {
   "cell_type": "markdown",
   "id": "16579995-ec85-4578-9d1d-305fe506dd7d",
   "metadata": {},
   "source": [
    "%тестов, где p-value <0.05 составляет"
   ]
  },
  {
   "cell_type": "code",
   "execution_count": 71,
   "id": "8cda72ff-92ca-446f-946f-fde18f7fe57b",
   "metadata": {},
   "outputs": [],
   "source": [
    "p_val_rate=df2[df2['p_value']<0.05].count()/len(df2['p_value'])*100"
   ]
  },
  {
   "cell_type": "code",
   "execution_count": 76,
   "id": "667fb2c7-5cad-41b1-a547-7068348eca4d",
   "metadata": {},
   "outputs": [
    {
     "name": "stdout",
     "output_type": "stream",
     "text": [
      "%тестов, где p-value <0.05 составляет 5.32 %\n"
     ]
    }
   ],
   "source": [
    "print(\"%тестов, где p-value <0.05 составляет\",round(p_val_rate[0],2),'%')"
   ]
  },
  {
   "cell_type": "markdown",
   "id": "9c0d55f2-97cb-4bd5-8d48-c3ae25670236",
   "metadata": {},
   "source": [
    "Вывод по проведенному АА-тесту: % тестов, где  p-value <0.05 только на 0.32%  выше заданного порога в 5%. \n",
    "Т.е прибизительно только в 5% случаев у нас получились статистически знаимые различия между 2 и 3 группой. \n",
    "Визуально распределение также получилось относительно равномерным. Считаю, что система сплитования работает корректно. "
   ]
  },
  {
   "cell_type": "markdown",
   "id": "d31a5f7b-2d9d-4c7d-a92c-9da9486f64a9",
   "metadata": {},
   "source": []
  },
  {
   "cell_type": "code",
   "execution_count": null,
   "id": "00740c74-f67f-4ffe-9488-9742084492d9",
   "metadata": {},
   "outputs": [],
   "source": []
  }
 ],
 "metadata": {
  "kernelspec": {
   "display_name": "Python 3 (ipykernel)",
   "language": "python",
   "name": "python3"
  },
  "language_info": {
   "codemirror_mode": {
    "name": "ipython",
    "version": 3
   },
   "file_extension": ".py",
   "mimetype": "text/x-python",
   "name": "python",
   "nbconvert_exporter": "python",
   "pygments_lexer": "ipython3",
   "version": "3.8.10"
  }
 },
 "nbformat": 4,
 "nbformat_minor": 5
}
