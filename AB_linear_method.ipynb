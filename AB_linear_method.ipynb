{
 "cells": [
  {
   "cell_type": "code",
   "execution_count": 24,
   "id": "47287c0e-8b5c-42eb-81e6-ac3b979dfe60",
   "metadata": {},
   "outputs": [],
   "source": [
    "#группа 1 -контроль группа (все по-старому) 2 - новые алгоритмы(таргет)\n",
    "#группа 0 -контроль группа (все по-старому) 3 - новые алгоритмы(таргет\n",
    "import pandas as pd\n",
    "import matplotlib.pyplot as plt\n",
    "import seaborn as sns\n",
    "import pandahouse\n",
    "import numpy as np\n",
    "import hashlib #делать хэши\n",
    "#import swifter #ускорение метода apply\n",
    "from scipy import stats #статистика\n",
    "%matplotlib inline"
   ]
  },
  {
   "cell_type": "code",
   "execution_count": 25,
   "id": "bf51eb86-4b85-4c1f-bd09-82e81edcb5a6",
   "metadata": {},
   "outputs": [],
   "source": [
    "connection = {\n",
    "    'host': 'https://clickhouse.lab.karpov.courses',\n",
    "    'password': 'dpo_python_2020',\n",
    "    'user': 'student',\n",
    "    'database': 'simulator_20220520'\n",
    "     }\n",
    "\n",
    "q = \"\"\"\n",
    "SELECT exp_group, \n",
    "    user_id,\n",
    "    sum(action = 'like') as likes,\n",
    "    sum(action = 'view') as views,\n",
    "    likes/views as ctr\n",
    "FROM simulator_20220520.feed_actions \n",
    "WHERE toDate(time) between '2022-04-24' and '2022-04-30'\n",
    "    and exp_group in (0,1,2,3)\n",
    "GROUP BY exp_group, user_id\n",
    "\"\"\"\n",
    "df = pandahouse.read_clickhouse(q, connection=connection)"
   ]
  },
  {
   "cell_type": "code",
   "execution_count": 26,
   "id": "3676b2d8-b9be-43b1-b724-0f22b024ef03",
   "metadata": {},
   "outputs": [],
   "source": [
    "#Считаем общий CTR в контрольных группах 0 и 1\n",
    "#𝐶𝑇𝑅𝑐𝑜𝑛𝑡𝑟𝑜𝑙=𝑠𝑢𝑚(𝑙𝑖𝑘𝑒𝑠)/𝑠𝑢𝑚(𝑣𝑖𝑒𝑤𝑠)\n",
    "CTR_control_0= df[df.exp_group == 0].likes.sum()/df[df.exp_group == 0].views.sum()\n",
    "CTR_control_1= df[df.exp_group == 1].likes.sum()/df[df.exp_group == 1].views.sum()"
   ]
  },
  {
   "cell_type": "code",
   "execution_count": 27,
   "id": "0316cd47-6886-4347-816d-e6029de75c90",
   "metadata": {},
   "outputs": [],
   "source": [
    "#Посчитаем в обеих группах поюзерную метрику  𝑙𝑖𝑛𝑒𝑎𝑟𝑖𝑧𝑒𝑑_𝑙𝑖𝑘𝑒𝑠=𝑙𝑖𝑘𝑒𝑠−𝐶𝑇𝑅𝑐𝑜𝑛𝑡𝑟𝑜𝑙∗𝑣𝑖𝑒𝑤𝑠\n",
    "def get_linearized (user_likes,user_views, CTR_control):\n",
    "    linearized_likes = (user_likes-CTR_control*user_views) \n",
    "    return linearized_likes"
   ]
  },
  {
   "cell_type": "code",
   "execution_count": 28,
   "id": "c1cc0de4-1cf6-495a-aea0-f9229eb55e3c",
   "metadata": {},
   "outputs": [],
   "source": [
    "group0=df[df.exp_group == 0].copy()\n",
    "group1=df[df.exp_group == 1].copy()\n",
    "group2=df[df.exp_group == 2].copy()\n",
    "group3=df[df.exp_group == 3].copy()"
   ]
  },
  {
   "cell_type": "code",
   "execution_count": 29,
   "id": "6957dc55-4705-4897-93b1-b701d17a5105",
   "metadata": {},
   "outputs": [],
   "source": [
    "# Группы 0 и 3, где 0 -контроль группа\n",
    "group0['linearized_likes'] = df.apply(\n",
    "    lambda x: get_linearized(x['likes'],x['views'], CTR_control_0), axis=1) \n",
    "\n",
    "group3['linearized_likes'] = df.apply(\n",
    "    lambda x: get_linearized(x['likes'],x['views'], CTR_control_0), axis=1) "
   ]
  },
  {
   "cell_type": "code",
   "execution_count": 30,
   "id": "75c62c66-6e08-4387-84e2-c073ee59e4bb",
   "metadata": {},
   "outputs": [],
   "source": [
    "#Группы 1 и 2, где  1 -контроль группа\n",
    "group1['linearized_likes'] = df.apply(\n",
    "    lambda x: get_linearized(x['likes'],x['views'], CTR_control_1), axis=1) \n",
    "\n",
    "group2['linearized_likes'] = df.apply(\n",
    "    lambda x: get_linearized(x['likes'],x['views'], CTR_control_1), axis=1) "
   ]
  },
  {
   "cell_type": "code",
   "execution_count": 31,
   "id": "ed57be35-598c-4802-aaac-a1fb502d38ad",
   "metadata": {},
   "outputs": [
    {
     "name": "stdout",
     "output_type": "stream",
     "text": [
      "Ttest_indResult(statistic=-13.896870721904069, pvalue=1.055849414662529e-43)\n"
     ]
    }
   ],
   "source": [
    "#t-test до линеаризации, группа 0 и 3 \n",
    "print(stats.ttest_ind(\n",
    "        df[df.exp_group == 0].ctr,\n",
    "        df[df.exp_group == 3].ctr,\n",
    "          equal_var=False) )"
   ]
  },
  {
   "cell_type": "code",
   "execution_count": 32,
   "id": "ae967d87-6985-4eca-9783-dd8510b9b529",
   "metadata": {},
   "outputs": [
    {
     "name": "stdout",
     "output_type": "stream",
     "text": [
      "Ttest_indResult(statistic=-15.214995460903827, pvalue=5.4914249479690016e-52)\n"
     ]
    }
   ],
   "source": [
    "#t-test после линеаризации, группа 0 и 3 \n",
    "print(stats.ttest_ind(\n",
    "                group0.linearized_likes,\n",
    "                group3.linearized_likes,\n",
    "                  equal_var=False) )"
   ]
  },
  {
   "cell_type": "code",
   "execution_count": 33,
   "id": "d79f645f-ab60-4906-a7c5-88ad4a11a9b4",
   "metadata": {},
   "outputs": [
    {
     "name": "stdout",
     "output_type": "stream",
     "text": [
      "Ttest_indResult(statistic=0.7094392041270485, pvalue=0.4780623130874935)\n"
     ]
    }
   ],
   "source": [
    "#t-test до линеаризации, группа 1 и 2 \n",
    "print(stats.ttest_ind(\n",
    "        df[df.exp_group == 1].ctr,\n",
    "        df[df.exp_group == 2].ctr,\n",
    "          equal_var=False) )"
   ]
  },
  {
   "cell_type": "code",
   "execution_count": 34,
   "id": "c52135ea-5df5-437e-8215-ab1d5b39a964",
   "metadata": {},
   "outputs": [
    {
     "name": "stdout",
     "output_type": "stream",
     "text": [
      "Ttest_indResult(statistic=6.122579994775974, pvalue=9.439432187037644e-10)\n"
     ]
    }
   ],
   "source": [
    "#t-test после линеаризации, группа 1 и 2\n",
    "print(stats.ttest_ind(\n",
    "                group1.linearized_likes,\n",
    "                group2.linearized_likes,\n",
    "                  equal_var=False) )"
   ]
  },
  {
   "cell_type": "markdown",
   "id": "668db28f-0fd6-4c27-85f0-3db301a554c5",
   "metadata": {},
   "source": [
    "Вывод:\n",
    "В группе 0 и 3 p-value стало ниже  после линеаризации.\n",
    "\n",
    "В группе 1 и 2 до линеаризации не было обнаружено статистических различий, после линеаризации p-value cтало значительно ниже 0.05. Т.е были обнаружены статистические различия."
   ]
  },
  {
   "cell_type": "code",
   "execution_count": null,
   "id": "bf0f5bfd-4b61-445a-8d06-2062f1268c48",
   "metadata": {},
   "outputs": [],
   "source": []
  },
  {
   "cell_type": "code",
   "execution_count": null,
   "id": "57188b9c-81c8-490d-a673-82d87e0c8bbd",
   "metadata": {},
   "outputs": [],
   "source": []
  },
  {
   "cell_type": "code",
   "execution_count": null,
   "id": "836d7dbc-daf5-4632-909c-d5577384f2a5",
   "metadata": {},
   "outputs": [],
   "source": []
  }
 ],
 "metadata": {
  "kernelspec": {
   "display_name": "Python 3 (ipykernel)",
   "language": "python",
   "name": "python3"
  },
  "language_info": {
   "codemirror_mode": {
    "name": "ipython",
    "version": 3
   },
   "file_extension": ".py",
   "mimetype": "text/x-python",
   "name": "python",
   "nbconvert_exporter": "python",
   "pygments_lexer": "ipython3",
   "version": "3.8.10"
  }
 },
 "nbformat": 4,
 "nbformat_minor": 5
}
