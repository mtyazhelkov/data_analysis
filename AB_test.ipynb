{
 "cells": [
  {
   "cell_type": "code",
   "execution_count": 1,
   "id": "e686c4b6-74b3-4ca6-82cd-d17090c25f41",
   "metadata": {},
   "outputs": [],
   "source": [
    "#группа 1 -контроль группа 2 - новые алгоритмы(таргет)\n",
    "import pandas as pd\n",
    "import matplotlib.pyplot as plt\n",
    "import seaborn as sns\n",
    "import pandahouse\n",
    "import numpy as np\n",
    "import hashlib #делать хэши\n",
    "#import swifter #ускорение метода apply\n",
    "from scipy import stats #статистика\n",
    "%matplotlib inline"
   ]
  },
  {
   "cell_type": "code",
   "execution_count": 3,
   "id": "7e5c1172-4c14-4247-bf0e-d92e22d75713",
   "metadata": {},
   "outputs": [],
   "source": [
    "connection = {\n",
    "    'host': 'https://clickhouse.lab.karpov.courses',\n",
    "    'password': 'dpo_python_2020',\n",
    "    'user': 'student',\n",
    "    'database': 'simulator_20220520'\n",
    "     }\n",
    "\n",
    "q = \"\"\"\n",
    "SELECT exp_group, \n",
    "    user_id,\n",
    "    sum(action = 'like') as likes,\n",
    "    sum(action = 'view') as views,\n",
    "    likes/views as ctr\n",
    "FROM simulator_20220520.feed_actions \n",
    "WHERE toDate(time) between '2022-04-24' and '2022-04-30'\n",
    "    and exp_group in (1,2)\n",
    "GROUP BY exp_group, user_id\n",
    "\"\"\"\n",
    "df = pandahouse.read_clickhouse(q, connection=connection)\n"
   ]
  },
  {
   "cell_type": "markdown",
   "id": "ae1f620d-5d9b-4290-91b7-a835cfaaed65",
   "metadata": {},
   "source": [
    " t-тест, Пуассоновский бутстреп, тест Манна-Уитни, t-тест на сглаженном ctr (α=5), а также t-тест и тест Манна-Уитни поверх бакетного преобразования"
   ]
  },
  {
   "cell_type": "markdown",
   "id": "e09b26fd-5ed1-4728-886d-acb0f43f4419",
   "metadata": {},
   "source": [
    "Распределения"
   ]
  },
  {
   "cell_type": "code",
   "execution_count": 4,
   "id": "9f934a5d-a341-4b4a-acc8-a82db8072be3",
   "metadata": {},
   "outputs": [
    {
     "data": {
      "image/png": "[encoded data removed]",
      "text/plain": [
       "<Figure size 432x288 with 1 Axes>"
      ]
     },
     "metadata": {
      "needs_background": "light"
     },
     "output_type": "display_data"
    }
   ],
   "source": [
    "#sns.set(rc={'figure.figsize':(11.7,8.27)})\n",
    "groups = sns.histplot(data = df, \n",
    "              x='ctr', \n",
    "              hue='exp_group', \n",
    "              palette = ['r', 'b'],\n",
    "              alpha=0.5,\n",
    "              kde=False)"
   ]
  },
  {
   "cell_type": "code",
   "execution_count": 5,
   "id": "f30f1f51-7284-4a34-b635-a952458eedc9",
   "metadata": {},
   "outputs": [
    {
     "data": {
      "image/png": "[encoded data removed]",
      "text/plain": [
       "<Figure size 432x288 with 1 Axes>"
      ]
     },
     "metadata": {
      "needs_background": "light"
     },
     "output_type": "display_data"
    }
   ],
   "source": [
    "#sns.set(rc={'figure.figsize':(11.7,8.27)})\n",
    "groups = sns.histplot(data = df[df.exp_group == 1], \n",
    "              x='ctr', \n",
    "              hue='exp_group', \n",
    "              palette = ['r'],\n",
    "              alpha=0.5,\n",
    "              kde=False)"
   ]
  },
  {
   "cell_type": "code",
   "execution_count": 7,
   "id": "5c665e6f-0b4d-47fb-8674-83572b5ee698",
   "metadata": {},
   "outputs": [
    {
     "data": {
      "image/png": "[encoded data removed]",
      "text/plain": [
       "<Figure size 432x288 with 1 Axes>"
      ]
     },
     "metadata": {
      "needs_background": "light"
     },
     "output_type": "display_data"
    }
   ],
   "source": [
    "groups = sns.histplot(data = df[df.exp_group == 2], \n",
    "              x='ctr', \n",
    "              hue='exp_group', \n",
    "              palette = ['b'],\n",
    "              alpha=0.5,\n",
    "              kde=False)"
   ]
  },
  {
   "cell_type": "markdown",
   "id": "d49632ef-322c-49f0-9e73-9af9ba7cdf42",
   "metadata": {},
   "source": [
    "T-тест"
   ]
  },
  {
   "cell_type": "code",
   "execution_count": 8,
   "id": "24ade631-5dc6-4721-86a9-87f4e1ab5cd0",
   "metadata": {},
   "outputs": [
    {
     "name": "stdout",
     "output_type": "stream",
     "text": [
      "Ttest_indResult(statistic=0.7094392041270485, pvalue=0.4780623130874935)\n"
     ]
    }
   ],
   "source": [
    "t_test=stats.ttest_ind(\n",
    "        df[df.exp_group == 1].ctr,\n",
    "        df[df.exp_group == 2].ctr,\n",
    "          equal_var=False) \n",
    "print(t_test)"
   ]
  },
  {
   "cell_type": "markdown",
   "id": "f74c10ac-1456-42a8-890e-a4a630f08e00",
   "metadata": {},
   "source": [
    "Тест Манна-Уитни"
   ]
  },
  {
   "cell_type": "code",
   "execution_count": 9,
   "id": "07a3e499-20fa-401c-84c6-1541caf675bf",
   "metadata": {},
   "outputs": [
    {
     "name": "stdout",
     "output_type": "stream",
     "text": [
      "MannwhitneyuResult(statistic=56601260.5, pvalue=6.0376484617779035e-56)\n"
     ]
    }
   ],
   "source": [
    "mw_test=stats.mannwhitneyu(df[df.exp_group == 1].ctr,\n",
    "                         df[df.exp_group == 2].ctr,\n",
    "                           alternative = 'two-sided') \n",
    "print(mw_test)"
   ]
  },
  {
   "cell_type": "code",
   "execution_count": 10,
   "id": "27bdd522-9905-45b5-9501-0710468e99b6",
   "metadata": {},
   "outputs": [
    {
     "name": "stdout",
     "output_type": "stream",
     "text": [
      "В 56.55 % случаев A > B. Должно получиться около 50%\n"
     ]
    }
   ],
   "source": [
    "A_gt_B = 0\n",
    "for _ in range(10000):\n",
    "    A_gt_B+= df[df.exp_group == 1].ctr.sample().values[0] > df[df.exp_group == 2].ctr.sample().values[0]\n",
    "    \n",
    "print('В', A_gt_B/100, '% случаев A > B. Должно получиться около 50%')"
   ]
  },
  {
   "cell_type": "markdown",
   "id": "c2871068-008b-4588-8b7a-5fc5642fe191",
   "metadata": {},
   "source": [
    "T-тест на сглаженном ctr (α=5)"
   ]
  },
  {
   "cell_type": "code",
   "execution_count": 11,
   "id": "778c8295-da2b-465e-af54-4924a623ce12",
   "metadata": {},
   "outputs": [],
   "source": [
    "def get_smothed_ctr(user_likes, user_views, global_ctr, alpha):\n",
    "    smothed_ctr = (user_likes + alpha * global_ctr) / (user_views + alpha)\n",
    "    return smothed_ctr"
   ]
  },
  {
   "cell_type": "code",
   "execution_count": 12,
   "id": "fb5a83a7-3bc6-4888-9087-92a7a2fcdedf",
   "metadata": {},
   "outputs": [],
   "source": [
    "global_ctr_1 = df[df.exp_group == 1].likes.sum()/df[df.exp_group == 1].views.sum()\n",
    "global_ctr_2 = df[df.exp_group == 2].likes.sum()/df[df.exp_group == 2].views.sum()"
   ]
  },
  {
   "cell_type": "code",
   "execution_count": 13,
   "id": "e3a0ff01-720b-44ba-b3fb-6add67b3e2e4",
   "metadata": {},
   "outputs": [],
   "source": [
    "group1 = df[df.exp_group == 1].copy()\n",
    "group2 = df[df.exp_group == 2].copy()"
   ]
  },
  {
   "cell_type": "code",
   "execution_count": 14,
   "id": "878b136f-ebe6-4233-b535-44484da9dd26",
   "metadata": {},
   "outputs": [],
   "source": [
    "#Сглаженный CTR, группа 1"
   ]
  },
  {
   "cell_type": "code",
   "execution_count": 15,
   "id": "47741e2d-fc87-4f66-9555-1b52647dd6e5",
   "metadata": {},
   "outputs": [
    {
     "name": "stderr",
     "output_type": "stream",
     "text": [
      "/nfs/env/lib/python3.8/site-packages/seaborn/distributions.py:2557: FutureWarning: `distplot` is a deprecated function and will be removed in a future version. Please adapt your code to use either `displot` (a figure-level function with similar flexibility) or `histplot` (an axes-level function for histograms).\n",
      "  warnings.warn(msg, FutureWarning)\n"
     ]
    },
    {
     "data": {
      "text/plain": [
       "<AxesSubplot:xlabel='ctr'>"
      ]
     },
     "execution_count": 15,
     "metadata": {},
     "output_type": "execute_result"
    },
    {
     "data": {
      "image/png": "[encoded data removed]",
      "text/plain": [
       "<Figure size 432x288 with 1 Axes>"
      ]
     },
     "metadata": {
      "needs_background": "light"
     },
     "output_type": "display_data"
    }
   ],
   "source": [
    "sns.distplot(group1.ctr,\n",
    "             kde = False)"
   ]
  },
  {
   "cell_type": "code",
   "execution_count": 16,
   "id": "832b827c-974f-4ba5-8507-8cbe1784dcc9",
   "metadata": {},
   "outputs": [],
   "source": [
    "#Сглаженный CTR, группа 2"
   ]
  },
  {
   "cell_type": "code",
   "execution_count": 17,
   "id": "fe25ca1f-232d-471b-9c90-c5370d23ae76",
   "metadata": {},
   "outputs": [
    {
     "data": {
      "text/plain": [
       "<AxesSubplot:xlabel='ctr'>"
      ]
     },
     "execution_count": 17,
     "metadata": {},
     "output_type": "execute_result"
    },
    {
     "data": {
      "image/png": "[encoded data removed]",
      "text/plain": [
       "<Figure size 432x288 with 1 Axes>"
      ]
     },
     "metadata": {
      "needs_background": "light"
     },
     "output_type": "display_data"
    }
   ],
   "source": [
    "sns.distplot(group2.ctr,\n",
    "             kde = False)"
   ]
  },
  {
   "cell_type": "code",
   "execution_count": 18,
   "id": "6c7839d4-d389-42c6-80b9-948b6c2b37d7",
   "metadata": {},
   "outputs": [],
   "source": [
    "group1['smothed_ctr'] = df.apply(\n",
    "    lambda x: get_smothed_ctr(x['likes'], x['views'], global_ctr_1, 5), axis=1)\n",
    "\n",
    "group2['smothed_ctr'] = df.apply(\n",
    "    lambda x: get_smothed_ctr(x['likes'], x['views'], global_ctr_2, 5), axis=1)"
   ]
  },
  {
   "cell_type": "code",
   "execution_count": 19,
   "id": "4397e56c-f1d0-486d-ad64-df847ce55b50",
   "metadata": {},
   "outputs": [
    {
     "name": "stdout",
     "output_type": "stream",
     "text": [
      "Ttest_indResult(statistic=2.2841320431616983, pvalue=0.0223769815558559)\n"
     ]
    }
   ],
   "source": [
    "t_test_smtothed_ctr=stats.ttest_ind(\n",
    "                              group1['smothed_ctr'],\n",
    "                              group2['smothed_ctr'],\n",
    "                                   equal_var=False) \n",
    "print(t_test_smtothed_ctr)"
   ]
  },
  {
   "cell_type": "markdown",
   "id": "2eaa03f2-21e5-41b0-a414-10892277acf4",
   "metadata": {},
   "source": [
    "Пуассоновский бутстреп"
   ]
  },
  {
   "cell_type": "code",
   "execution_count": 20,
   "id": "98a45061-d71e-431d-b5d3-b69d37aff44f",
   "metadata": {},
   "outputs": [],
   "source": [
    "#Функция бутстрепа\n",
    "def bootstrap(likes1, views1, likes2, views2, n_bootstrap=2000):\n",
    "\n",
    "    poisson_bootstraps1 = stats.poisson(1).rvs(\n",
    "        (n_bootstrap, len(likes1))).astype(np.int64)\n",
    "\n",
    "    poisson_bootstraps2 = stats.poisson(1).rvs(\n",
    "            (n_bootstrap, len(likes2))).astype(np.int64)\n",
    "    \n",
    "    globalCTR1 = (poisson_bootstraps1*likes1).sum(axis=1)/(poisson_bootstraps1*views1).sum(axis=1)\n",
    "    \n",
    "    globalCTR2 = (poisson_bootstraps2*likes2).sum(axis=1)/(poisson_bootstraps2*views2).sum(axis=1)\n",
    "\n",
    "    return globalCTR1, globalCTR2"
   ]
  },
  {
   "cell_type": "code",
   "execution_count": 21,
   "id": "6ec90db6-3b7d-44d6-8b3e-b40ba6dbb91d",
   "metadata": {},
   "outputs": [],
   "source": [
    "likes1 = df[df.exp_group == 1].likes.to_numpy()\n",
    "views1 = df[df.exp_group == 1].views.to_numpy()\n",
    "likes2 = df[df.exp_group == 2].likes.to_numpy()\n",
    "views2 = df[df.exp_group == 2].views.to_numpy()\n",
    "\n",
    "ctr1, ctr2 = bootstrap(likes1, views1, likes2, views2)"
   ]
  },
  {
   "cell_type": "code",
   "execution_count": 23,
   "id": "ddc95871-bfa7-4e59-bb13-570e785a8d4f",
   "metadata": {},
   "outputs": [
    {
     "data": {
      "text/plain": [
       "<AxesSubplot:ylabel='Count'>"
      ]
     },
     "execution_count": 23,
     "metadata": {},
     "output_type": "execute_result"
    },
    {
     "data": {
      "image/png": "[encoded data removed]",
      "text/plain": [
       "<Figure size 432x288 with 1 Axes>"
      ]
     },
     "metadata": {
      "needs_background": "light"
     },
     "output_type": "display_data"
    }
   ],
   "source": [
    "#Графики распределения выборок, полученных бустрепом ctr1 и ctr2\n",
    "sns.histplot(ctr1)\n",
    "sns.histplot(ctr2)"
   ]
  },
  {
   "cell_type": "code",
   "execution_count": 36,
   "id": "bf7b0fc8-e134-480e-9939-db213148ddab",
   "metadata": {},
   "outputs": [
    {
     "data": {
      "text/plain": [
       "<AxesSubplot:ylabel='Count'>"
      ]
     },
     "execution_count": 36,
     "metadata": {},
     "output_type": "execute_result"
    },
    {
     "data": {
      "image/png": "[encoded data removed]",
      "text/plain": [
       "<Figure size 842.4x595.44 with 1 Axes>"
      ]
     },
     "metadata": {},
     "output_type": "display_data"
    }
   ],
   "source": [
    "#Разница между глобальными CTR, проученных бутстрепом\n",
    "sns.histplot(ctr2 - ctr1, bins=30)"
   ]
  },
  {
   "cell_type": "markdown",
   "id": "f6728014-c344-4866-b5ac-b276ae913cbc",
   "metadata": {},
   "source": [
    "Бакетное преобразование"
   ]
  },
  {
   "cell_type": "code",
   "execution_count": 25,
   "id": "2944a35f-00a4-47e9-9716-0d5e51603f4a",
   "metadata": {},
   "outputs": [],
   "source": [
    "#Формируем бакеты\n",
    "q = \"\"\"\n",
    "\n",
    "SELECT exp_group, bucket,\n",
    "    sum(likes)/sum(views) as bucket_ctr,\n",
    "    quantileExact(0.9)(ctr) as ctr9\n",
    "FROM (SELECT exp_group, \n",
    "        xxHash64(user_id)%50 as bucket,\n",
    "        user_id,\n",
    "        sum(action = 'like') as likes,\n",
    "        sum(action = 'view') as views,\n",
    "        likes/views as ctr\n",
    "    FROM  simulator_20220520.feed_actions \n",
    "    WHERE toDate(time) between '2022-04-17' and '2022-04-23'\n",
    "        and exp_group in (1,2)\n",
    "    GROUP BY exp_group, bucket, user_id)\n",
    "GROUP BY exp_group, bucket\n",
    "\"\"\"\n",
    "df = pandahouse.read_clickhouse(q, connection=connection)\n"
   ]
  },
  {
   "cell_type": "code",
   "execution_count": 26,
   "id": "4ea48fe4-a694-4f21-9412-ff1f0df7703e",
   "metadata": {},
   "outputs": [],
   "source": [
    "#ctr1 и сtr2 полученные после бакетного преобразования"
   ]
  },
  {
   "cell_type": "code",
   "execution_count": 32,
   "id": "8e3fb1e6-d60a-47be-ad46-c5d2db028bf7",
   "metadata": {},
   "outputs": [
    {
     "data": {
      "text/plain": [
       "<AxesSubplot:xlabel='bucket_ctr', ylabel='Count'>"
      ]
     },
     "execution_count": 32,
     "metadata": {},
     "output_type": "execute_result"
    },
    {
     "data": {
      "image/png": "[encoded data removed]",
      "text/plain": [
       "<Figure size 432x288 with 1 Axes>"
      ]
     },
     "metadata": {
      "needs_background": "light"
     },
     "output_type": "display_data"
    }
   ],
   "source": [
    "sns.histplot(df[df.exp_group == 1].bucket_ctr)"
   ]
  },
  {
   "cell_type": "code",
   "execution_count": 33,
   "id": "d494673e-e592-487d-8264-7921cb14e2d4",
   "metadata": {},
   "outputs": [
    {
     "data": {
      "text/plain": [
       "<AxesSubplot:xlabel='bucket_ctr', ylabel='Count'>"
      ]
     },
     "execution_count": 33,
     "metadata": {},
     "output_type": "execute_result"
    },
    {
     "data": {
      "image/png": "[encoded data removed]",
      "text/plain": [
       "<Figure size 432x288 with 1 Axes>"
      ]
     },
     "metadata": {
      "needs_background": "light"
     },
     "output_type": "display_data"
    }
   ],
   "source": [
    "sns.histplot(df[df.exp_group == 2].bucket_ctr)"
   ]
  },
  {
   "cell_type": "markdown",
   "id": "c506f70e-dab3-4784-b365-226c77e4c7c6",
   "metadata": {},
   "source": [
    "T-Тест поверх бакетного преобразования"
   ]
  },
  {
   "cell_type": "code",
   "execution_count": 29,
   "id": "8b4742df-daae-44b0-8f5e-bbb2ee8a2993",
   "metadata": {},
   "outputs": [
    {
     "name": "stdout",
     "output_type": "stream",
     "text": [
      "Ttest_indResult(statistic=-2.249431215012112, pvalue=0.026727457897151256)\n"
     ]
    }
   ],
   "source": [
    "t_test_bucket=stats.ttest_ind(df[df.exp_group == 1].bucket_ctr, \n",
    "                              df[df.exp_group == 2].bucket_ctr, \n",
    "                              equal_var = False)\n",
    "print(t_test_bucket)"
   ]
  },
  {
   "cell_type": "markdown",
   "id": "df7133b1-acfa-495f-82e6-225bf4a27cdf",
   "metadata": {},
   "source": [
    "Тест Манна-Уитни поверх бакетного преобразования"
   ]
  },
  {
   "cell_type": "code",
   "execution_count": 30,
   "id": "0fff2133-3bb2-45c7-852c-255512488152",
   "metadata": {},
   "outputs": [
    {
     "name": "stdout",
     "output_type": "stream",
     "text": [
      "MannwhitneyuResult(statistic=950.0, pvalue=0.0389514842806052)\n"
     ]
    }
   ],
   "source": [
    "#тест Манна-Уитни\n",
    "mw_test_bucket=stats.mannwhitneyu(df[df.exp_group == 1].bucket_ctr, \n",
    "                             df[df.exp_group == 2].bucket_ctr, \n",
    "                                    alternative = 'two-sided')\n",
    "print(mw_test_bucket)"
   ]
  },
  {
   "cell_type": "markdown",
   "id": "e0b58bcf-8b3e-40d0-86b9-b1f5ef93d915",
   "metadata": {},
   "source": [
    "Выводим все тесты:"
   ]
  },
  {
   "cell_type": "code",
   "execution_count": 31,
   "id": "bacd1229-e2a6-49c8-a310-33e0f50ec451",
   "metadata": {},
   "outputs": [
    {
     "name": "stdout",
     "output_type": "stream",
     "text": [
      "p-value t-тест: 0.4780623130874935\n",
      "p-value Манна-Уитни: 6.0376484617779035e-56\n",
      "p-value t-тест на сглаженном ctr (α=5): 0.0223769815558559\n",
      "p-value t-тест поверх бакетного преобразования: 0.026727457897151256\n",
      "p-value тест Манна-Уитни поверх бакетного преобразования: 0.0389514842806052\n"
     ]
    }
   ],
   "source": [
    "print('p-value t-тест:', t_test[1])\n",
    "\n",
    "print('p-value Манна-Уитни:', mw_test[1])\n",
    "\n",
    "print('p-value t-тест на сглаженном ctr (α=5):',t_test_smtothed_ctr[1])\n",
    "\n",
    "print('p-value t-тест поверх бакетного преобразования:', t_test_bucket[1])\n",
    "\n",
    "print('p-value тест Манна-Уитни поверх бакетного преобразования:', mw_test_bucket[1])"
   ]
  },
  {
   "cell_type": "markdown",
   "id": "13e34ecd-1464-496d-9302-1a27f31e5d1f",
   "metadata": {},
   "source": [
    "Выводы: Все тесты за исключением t-теста показали наличие статистически значимых различий между группами 1 и 2 по метрике ctr. Разница между ctr, полученная методом Бутстрепа не содержит нуля. Т.е бутстреп также свидетельствует о наличии различий. \n",
    "Визуально распределение в группе 2 (новые рекомендациии) отличаются от нормального, поэтому здесь t-теста не показал различий. Нарушено требование t-теста к нормальности распределения. \n",
    "Требования теста Манна -Уитни к нормальности не строги, поэтому статистические различия были обнаружены. \n",
    "\n",
    "На графике видно, что исходная выборка 2 двумодальна, что и дает сильные искажения. Возможно при разбивке пользователей на группы не был учтен какой -то параметр, например характер трафика, который сгенерировал новых пользоватлей, что и привело к 2 модам в распределении. Скажем, CTR пользователей органического трафика больше CTR рекламного. \n",
    "\n",
    "Считаю, что не стоит раскатывать новый алогоритм на новых пользователей, стоит взять выборки с более нормальным и однородным распределением, и провести новый АБ тест.\n"
   ]
  },
  {
   "cell_type": "code",
   "execution_count": null,
   "id": "75581571-9c67-4db0-aa4b-43f0ae63e18e",
   "metadata": {},
   "outputs": [],
   "source": []
  },
  {
   "cell_type": "code",
   "execution_count": null,
   "id": "6cd59de9-68bb-4718-9ca0-0c5cea69aac9",
   "metadata": {},
   "outputs": [],
   "source": []
  },
  {
   "cell_type": "code",
   "execution_count": null,
   "id": "e09120e1-4a7e-4dfa-a4ab-4a1e75d529d9",
   "metadata": {},
   "outputs": [],
   "source": []
  }
 ],
 "metadata": {
  "kernelspec": {
   "display_name": "Python 3 (ipykernel)",
   "language": "python",
   "name": "python3"
  },
  "language_info": {
   "codemirror_mode": {
    "name": "ipython",
    "version": 3
   },
   "file_extension": ".py",
   "mimetype": "text/x-python",
   "name": "python",
   "nbconvert_exporter": "python",
   "pygments_lexer": "ipython3",
   "version": "3.8.10"
  }
 },
 "nbformat": 4,
 "nbformat_minor": 5
}
